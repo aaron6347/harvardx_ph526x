{
 "cells": [
  {
   "cell_type": "code",
   "execution_count": 1,
   "metadata": {},
   "outputs": [],
   "source": [
    "import networkx as nx\n",
    "import matplotlib.pyplot as plt\n",
    "from scipy.stats import bernoulli\n",
    "\n",
    "def er_graph(N, actual_p):\n",
    "    \"\"\"Generate an ER graph.\"\"\"\n",
    "    G = nx.Graph()\n",
    "    G.add_nodes_from(range(N))\n",
    "    for node1 in G.nodes():\n",
    "        for node2 in G.nodes():\n",
    "            if node1 < node2 and bernoulli.rvs(p=actual_p):\n",
    "                G.add_edge(node1, node2)\n",
    "    return G\n",
    "\n",
    "def plot_degree_distribution(G):\n",
    "    degree_sequence = [d for n, d in G.degree()]\n",
    "    plt.hist(degree_sequence, histtype=\"step\")\n",
    "    plt.xlabel(\"Degree $k$\")\n",
    "    plt.ylabel(\"$P(k)$\")\n",
    "    plt.title(\"Degree distribution\")"
   ]
  },
  {
   "cell_type": "code",
   "execution_count": 3,
   "metadata": {},
   "outputs": [],
   "source": [
    "import numpy as np\n",
    "A1 = np.loadtxt(\"adj_allVillageRelationships_vilno_1.csv\", delimiter=\",\")\n",
    "A2 = np.loadtxt(\"adj_allVillageRelationships_vilno_2.csv\", delimiter=\",\")"
   ]
  },
  {
   "cell_type": "code",
   "execution_count": 4,
   "metadata": {},
   "outputs": [],
   "source": [
    "G1 = nx.to_networkx_graph(A1)\n",
    "G2 = nx.to_networkx_graph(A2)"
   ]
  },
  {
   "cell_type": "code",
   "execution_count": 5,
   "metadata": {},
   "outputs": [],
   "source": [
    "def basic_net_stats(G):\n",
    "    print(\"Number of nodes: %d\" % G.number_of_nodes())\n",
    "    print(\"Number of edges: %d\" % G.number_of_edges())\n",
    "    degree_sequence = [d for n, d in G.degree()]\n",
    "    print(\"Average degree: %.2f\" % np.mean(degree_sequence))"
   ]
  },
  {
   "cell_type": "code",
   "execution_count": 14,
   "metadata": {},
   "outputs": [
    {
     "name": "stdout",
     "output_type": "stream",
     "text": [
      "Number of nodes: 843\n",
      "Number of edges: 3405\n",
      "Average degree: 8.08\n",
      "Number of nodes: 877\n",
      "Number of edges: 3063\n",
      "Average degree: 6.99\n"
     ]
    }
   ],
   "source": [
    "basic_net_stats(G1)\n",
    "basic_net_stats(G2)"
   ]
  },
  {
   "cell_type": "code",
   "execution_count": 7,
   "metadata": {},
   "outputs": [
    {
     "data": {
      "image/png": "[encoded data removed]",
      "text/plain": [
       "<Figure size 432x288 with 1 Axes>"
      ]
     },
     "metadata": {
      "needs_background": "light"
     },
     "output_type": "display_data"
    }
   ],
   "source": [
    "plot_degree_distribution(G1)\n",
    "plot_degree_distribution(G2)\n",
    "plt.savefig(\"village_hist.pdf\")"
   ]
  },
  {
   "cell_type": "code",
   "execution_count": 8,
   "metadata": {},
   "outputs": [],
   "source": [
    "# As described in Video 4.3.6, which network has more nodes?\n",
    "# G2"
   ]
  },
  {
   "cell_type": "code",
   "execution_count": 9,
   "metadata": {},
   "outputs": [],
   "source": [
    "# As described in Video 4.3.6, which network has more edges?\n",
    "# G1"
   ]
  },
  {
   "cell_type": "code",
   "execution_count": 11,
   "metadata": {},
   "outputs": [],
   "source": [
    "import networkx as nx\n",
    "import matplotlib.pyplot as plt\n",
    "from scipy.stats import bernoulli\n",
    "import numpy as np\n",
    "\n",
    "def er_graph(N, actual_p):\n",
    "    \"\"\"Generate an ER graph.\"\"\"\n",
    "    G = nx.Graph()\n",
    "    G.add_nodes_from(range(N))\n",
    "    for node1 in G.nodes():\n",
    "        for node2 in G.nodes():\n",
    "            if node1 < node2 and bernoulli.rvs(p=actual_p):\n",
    "                G.add_edge(node1, node2)\n",
    "    return G\n",
    "\n",
    "def plot_degree_distribution(G):\n",
    "    degree_sequence = [d for n, d in G.degree()]\n",
    "    plt.hist(degree_sequence, histtype=\"step\")\n",
    "    plt.xlabel(\"Degree $k$\")\n",
    "    plt.ylabel(\"$P(k)$\")\n",
    "    plt.title(\"Degree distribution\")\n",
    "  \n",
    "def basic_net_stats(G):\n",
    "    print(\"Number of nodes: %d\" % G.number_of_nodes())\n",
    "    print(\"Number of edges: %d\" % G.number_of_edges())\n",
    "    degree_sequence = [d for n, d in G.degree()]\n",
    "    print(\"Average degree: %.2f\" % np.mean(degree_sequence))\n",
    "    \n",
    "A1 = np.loadtxt(\"adj_allVillageRelationships_vilno_1.csv\", delimiter=\",\")\n",
    "A2 = np.loadtxt(\"adj_allVillageRelationships_vilno_2.csv\", delimiter=\",\")\n",
    "\n",
    "G1 = nx.to_networkx_graph(A1)\n",
    "G2 = nx.to_networkx_graph(A2)"
   ]
  },
  {
   "cell_type": "code",
   "execution_count": null,
   "metadata": {},
   "outputs": [],
   "source": []
  }
 ],
 "metadata": {
  "kernelspec": {
   "display_name": "Python 3",
   "language": "python",
   "name": "python3"
  },
  "language_info": {
   "codemirror_mode": {
    "name": "ipython",
    "version": 3
   },
   "file_extension": ".py",
   "mimetype": "text/x-python",
   "name": "python",
   "nbconvert_exporter": "python",
   "pygments_lexer": "ipython3",
   "version": "3.7.6"
  }
 },
 "nbformat": 4,
 "nbformat_minor": 4
}
