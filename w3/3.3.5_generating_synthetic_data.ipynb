{
 "cells": [
  {
   "cell_type": "code",
   "execution_count": 10,
   "metadata": {},
   "outputs": [
    {
     "data": {
      "text/plain": [
       "array([[ 0.15370708, -0.92657152],\n",
       "       [-0.11325289, -0.99659435],\n",
       "       [-0.52632826,  1.56315848],\n",
       "       [-0.70169733,  0.65247017],\n",
       "       [ 0.73246146, -0.21666262]])"
      ]
     },
     "execution_count": 10,
     "metadata": {},
     "output_type": "execute_result"
    }
   ],
   "source": [
    "import matplotlib.pyplot as plt\n",
    "import numpy as np\n",
    "import random\n",
    "import time\n",
    "import collections\n",
    "import pandas as pd\n",
    "import scipy.stats as ss\n",
    "ss.norm(0,1).rvs((5,2))"
   ]
  },
  {
   "cell_type": "code",
   "execution_count": 11,
   "metadata": {},
   "outputs": [
    {
     "data": {
      "text/plain": [
       "array([[ 1.75595212, -0.54822737],\n",
       "       [-0.03347036,  0.92278595],\n",
       "       [ 1.04355799,  1.1789964 ],\n",
       "       [ 0.85910336,  0.62625975],\n",
       "       [ 0.53063054,  0.66465587]])"
      ]
     },
     "execution_count": 11,
     "metadata": {},
     "output_type": "execute_result"
    }
   ],
   "source": [
    "ss.norm(1,1).rvs((5,2))"
   ]
  },
  {
   "cell_type": "code",
   "execution_count": 12,
   "metadata": {},
   "outputs": [
    {
     "data": {
      "text/plain": [
       "array([[-0.34544429, -1.06140342],\n",
       "       [ 0.09992018,  1.32490777],\n",
       "       [ 1.62368855,  0.85638639],\n",
       "       [-1.01951172, -0.58666086],\n",
       "       [ 2.48768312,  1.10606258],\n",
       "       [ 0.30091518, -0.58572859],\n",
       "       [-0.14633714,  1.71177313],\n",
       "       [ 0.56024052,  1.24855137],\n",
       "       [ 2.83821988,  1.21232151],\n",
       "       [ 0.69205716,  1.35377714]])"
      ]
     },
     "execution_count": 12,
     "metadata": {},
     "output_type": "execute_result"
    }
   ],
   "source": [
    "np.concatenate((ss.norm(0,1).rvs((5,2)), ss.norm(1,1).rvs((5,2))), axis=0)"
   ]
  },
  {
   "cell_type": "code",
   "execution_count": 13,
   "metadata": {},
   "outputs": [
    {
     "data": {
      "text/plain": [
       "array([0, 0, 0, 0, 0, 1, 1, 1, 1, 1])"
      ]
     },
     "execution_count": 13,
     "metadata": {},
     "output_type": "execute_result"
    }
   ],
   "source": [
    "n = 5\n",
    "np.concatenate((np.repeat(0,n),np.repeat(1,n)))"
   ]
  },
  {
   "cell_type": "code",
   "execution_count": 14,
   "metadata": {},
   "outputs": [],
   "source": [
    "def generate_synth_data(n=50):\n",
    "    \"\"\"Create two sets of points from bivariate normal distribution\"\"\"\n",
    "    points = np.concatenate((ss.norm(0,1).rvs((n,2)), ss.norm(1,1).rvs((n,2))), axis=0)\n",
    "    outcomes = np.concatenate((np.repeat(0,n),np.repeat(1,n)))\n",
    "    return (points, outcomes)"
   ]
  },
  {
   "cell_type": "code",
   "execution_count": 15,
   "metadata": {},
   "outputs": [],
   "source": [
    "n = 20\n",
    "(points, outcomes) = generate_synth_data(n)"
   ]
  },
  {
   "cell_type": "code",
   "execution_count": 16,
   "metadata": {},
   "outputs": [
    {
     "data": {
      "text/plain": [
       "(array([[-0.13006472,  0.69638014],\n",
       "        [-1.23748204, -0.78898211],\n",
       "        [-1.12504625,  0.1961948 ],\n",
       "        [ 1.18952373, -1.36552341],\n",
       "        [-0.09879317, -0.02128269],\n",
       "        [ 0.77853   , -0.5920603 ],\n",
       "        [ 0.49505414, -0.59226086],\n",
       "        [ 0.55797481,  0.60227728],\n",
       "        [ 0.35910753,  0.08448127],\n",
       "        [ 1.99393044, -0.66026496],\n",
       "        [ 0.24110761, -0.30175225],\n",
       "        [ 1.31297407,  0.40841521],\n",
       "        [-0.09937604,  0.29698949],\n",
       "        [-1.3470483 , -1.42310977],\n",
       "        [ 1.99780352,  0.66561327],\n",
       "        [-0.65833893, -1.53994945],\n",
       "        [-1.12921696, -0.31529842],\n",
       "        [ 0.08363404, -0.03042671],\n",
       "        [ 2.04667551,  0.41531508],\n",
       "        [ 0.21097084,  0.55229769],\n",
       "        [-0.80755435,  1.53644749],\n",
       "        [ 0.89197123,  0.93710404],\n",
       "        [ 0.48969286,  0.16786235],\n",
       "        [-0.2861389 ,  0.89474129],\n",
       "        [-0.28637955,  0.03411712],\n",
       "        [ 1.42708396,  1.24389911],\n",
       "        [ 0.88352158, -0.05679346],\n",
       "        [-0.08975307,  0.85546059],\n",
       "        [-0.16056645,  0.78893747],\n",
       "        [ 0.99358869,  1.91351406],\n",
       "        [ 1.22632422,  0.12534207],\n",
       "        [ 1.78035328,  1.70539742],\n",
       "        [ 1.50595805,  0.10756279],\n",
       "        [ 0.09724125,  0.65170129],\n",
       "        [-0.40929522,  1.38066311],\n",
       "        [ 2.33962049,  0.47170494],\n",
       "        [-0.3660725 ,  0.63915223],\n",
       "        [ 1.9849    , -0.32954774],\n",
       "        [ 0.29375888, -0.23293468],\n",
       "        [ 0.9650272 ,  1.1038905 ]]),\n",
       " array([0, 0, 0, 0, 0, 0, 0, 0, 0, 0, 0, 0, 0, 0, 0, 0, 0, 0, 0, 0, 1, 1,\n",
       "        1, 1, 1, 1, 1, 1, 1, 1, 1, 1, 1, 1, 1, 1, 1, 1, 1, 1]))"
      ]
     },
     "execution_count": 16,
     "metadata": {},
     "output_type": "execute_result"
    }
   ],
   "source": [
    "(points,outcomes)"
   ]
  },
  {
   "cell_type": "code",
   "execution_count": 18,
   "metadata": {},
   "outputs": [
    {
     "data": {
      "image/png": "[encoded data removed]",
      "text/plain": [
       "<Figure size 432x288 with 1 Axes>"
      ]
     },
     "metadata": {
      "needs_background": "light"
     },
     "output_type": "display_data"
    }
   ],
   "source": [
    "n = 20\n",
    "plt.figure()\n",
    "plt.plot(points[:n,0], points[:n,1], \"ro\")\n",
    "plt.plot(points[n:,0], points[n:,1], \"bo\")\n",
    "plt.savefig(\"bivardata.pdf\")"
   ]
  },
  {
   "cell_type": "code",
   "execution_count": 19,
   "metadata": {},
   "outputs": [],
   "source": [
    "# What does np.concatenate do?\n",
    "# Takes in a tuple of np.arrays and joins them lengthwise along the specified axis"
   ]
  },
  {
   "cell_type": "code",
   "execution_count": 20,
   "metadata": {},
   "outputs": [],
   "source": [
    "# What is the main benefit of generating synthetic data?\n",
    "# You know exactly how the data were generated so you know what to expect when testing code."
   ]
  },
  {
   "cell_type": "code",
   "execution_count": 1,
   "metadata": {},
   "outputs": [],
   "source": [
    "import scipy.stats as ss\n",
    "def generate_synth_data(n=50):\n",
    "    \"\"\"Create two sets of points from bivariate normal distribution\"\"\"\n",
    "    points = np.concatenate((ss.norm(0,1).rvs((n,2)), ss.norm(1,1).rvs((n,2))), axis=0)\n",
    "    outcomes = np.concatenate((np.repeat(0,n),np.repeat(1,n)))\n",
    "    return (points, outcomes)"
   ]
  },
  {
   "cell_type": "code",
   "execution_count": null,
   "metadata": {},
   "outputs": [],
   "source": []
  }
 ],
 "metadata": {
  "kernelspec": {
   "display_name": "Python 3",
   "language": "python",
   "name": "python3"
  },
  "language_info": {
   "codemirror_mode": {
    "name": "ipython",
    "version": 3
   },
   "file_extension": ".py",
   "mimetype": "text/x-python",
   "name": "python",
   "nbconvert_exporter": "python",
   "pygments_lexer": "ipython3",
   "version": "3.7.6"
  }
 },
 "nbformat": 4,
 "nbformat_minor": 4
}
